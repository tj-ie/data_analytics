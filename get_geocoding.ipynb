{
  "nbformat": 4,
  "nbformat_minor": 0,
  "metadata": {
    "colab": {
      "name": "get_geocoding.ipynb",
      "provenance": [],
      "collapsed_sections": [],
      "authorship_tag": "ABX9TyP6Y+CEH2LccpKvT2vCXDgt",
      "include_colab_link": true
    },
    "kernelspec": {
      "name": "python3",
      "display_name": "Python 3"
    },
    "language_info": {
      "name": "python"
    }
  },
  "cells": [
    {
      "cell_type": "markdown",
      "metadata": {
        "id": "view-in-github",
        "colab_type": "text"
      },
      "source": [
        "<a href=\"https://colab.research.google.com/github/tj-ie/data_analytics/blob/main/get_geocoding.ipynb\" target=\"_parent\"><img src=\"https://colab.research.google.com/assets/colab-badge.svg\" alt=\"Open In Colab\"/></a>"
      ]
    },
    {
      "cell_type": "code",
      "metadata": {
        "id": "AaUNl1VbtXPC"
      },
      "source": [
        "import requests\n",
        "from bs4 import BeautifulSoup\n",
        "from collections import Counter\n",
        "import time\n",
        "from tqdm import tqdm\n",
        "import csv\n",
        "\n",
        "\n",
        "with open('./tmp/prized_teams.txt', 'r') as f:\n",
        "  team = f.read().split(\"\\n\")\n",
        "  team.remove('')\n",
        "\n",
        "team_count = Counter(team)\n",
        "\n",
        "team = []\n",
        "cnt = []\n",
        "\n",
        "for k, v in team_count.items():\n",
        "  team.append(k)\n",
        "  cnt.append(v)\n",
        "  \n",
        "# teams = dict(list(zip(team, cnt)))\n",
        "# # keyで降順にsort\n",
        "# sorted_teams = dict(sorted(teams.items(), key=lambda x: -x[1]))\n",
        "\n",
        "\n",
        "url = 'http://www.geocoding.jp/api/'\n",
        "global lats\n",
        "global lons\n",
        "lats = []\n",
        "lons = []\n",
        "for team_list in tqdm(team):\n",
        "    payload = {'q': team_list}  # \"v\": 1.1,\n",
        "    r = requests.get(url, params=payload)\n",
        "    ret = BeautifulSoup(r.content, 'lxml')\n",
        "    if ret.find('error'):\n",
        "        raise ValueError(f\"Invalid address submitted. {team_list}\")\n",
        "    else:\n",
        "        lat = ret.find('lat').string\n",
        "        lon = ret.find('lng').string\n",
        "        lats.append(lat)\n",
        "        lons.append(lon)\n",
        "        time.sleep(10)\n",
        "\n",
        "team_latlons = list(zip(team, lats, lons, cnt))\n",
        "\n",
        "with open('./tmp/team_latlons_v3.csv', 'w') as f:\n",
        "  w = csv.writer(f)\n",
        "  for data_list in team_latlons:\n",
        "    w.writerow(data_list)\n"
      ],
      "execution_count": null,
      "outputs": []
    },
    {
      "cell_type": "code",
      "metadata": {
        "id": "cKeBIGsQuhtZ"
      },
      "source": [
        "import requests\n",
        "from bs4 import BeautifulSoup\n",
        "import time\n",
        "import tqdm\n",
        "\n",
        "\n",
        "URL = 'http://www.geocoding.jp/api/'\n",
        "\n",
        "\n",
        "def coordinate(address):\n",
        "    \"\"\"\n",
        "    addressに住所を指定すると緯度経度を返す。\n",
        "\n",
        "    >>> coordinate('東京都文京区本郷7-3-1')\n",
        "    ['35.712056', '139.762775']\n",
        "    \"\"\"\n",
        "    payload = {'q': address}\n",
        "    html = requests.get(URL, params=payload)\n",
        "    soup = BeautifulSoup(html.content, \"html.parser\")\n",
        "    if soup.find('error'):\n",
        "        raise ValueError(f\"Invalid address submitted. {address}\")\n",
        "    latitude = soup.find('lat').string\n",
        "    longitude = soup.find('lng').string\n",
        "    return [latitude, longitude]\n",
        "\n",
        "\n",
        "def coordinates(addresses, interval=10, progress=True):\n",
        "    \"\"\"\n",
        "    addressesに住所リストを指定すると、緯度経度リストを返す。\n",
        "\n",
        "    >>> coordinates(['東京都文京区本郷7-3-1', '東京都文京区湯島３丁目３０−１'], progress=False)\n",
        "    [['35.712056', '139.762775'], ['35.707771', '139.768205']]\n",
        "    \"\"\"\n",
        "    coordinates = []\n",
        "    for address in progress and tqdm(addresses) or addresses:\n",
        "        coordinates.append(coordinate(address))\n",
        "        time.sleep(interval)\n",
        "    return coordinates"
      ],
      "execution_count": null,
      "outputs": []
    }
  ]
}