{
  "nbformat": 4,
  "nbformat_minor": 0,
  "metadata": {
    "colab": {
      "name": "cluster_analytics.ipynb",
      "provenance": [],
      "collapsed_sections": [],
      "mount_file_id": "1zwFUN3fAyNL0M62zB1mzsX9Lonl8Pxj7",
      "authorship_tag": "ABX9TyMArcegvIm3eyPhJH9WKU9Y",
      "include_colab_link": true
    },
    "kernelspec": {
      "name": "python3",
      "display_name": "Python 3"
    },
    "language_info": {
      "name": "python"
    }
  },
  "cells": [
    {
      "cell_type": "markdown",
      "metadata": {
        "id": "view-in-github",
        "colab_type": "text"
      },
      "source": [
        "<a href=\"https://colab.research.google.com/github/tj-ie/data_analytics/blob/main/cluster_analytics.ipynb\" target=\"_parent\"><img src=\"https://colab.research.google.com/assets/colab-badge.svg\" alt=\"Open In Colab\"/></a>"
      ]
    },
    {
      "cell_type": "code",
      "metadata": {
        "id": "uuKK2uA7y4sh"
      },
      "source": [
        "import pandas as pd\n",
        "import numpy as np\n",
        "from sklearn.cluster import KMeans\n",
        "import matplotlib.pyplot as plt"
      ],
      "execution_count": null,
      "outputs": []
    },
    {
      "cell_type": "code",
      "metadata": {
        "id": "6ngbuG4Yy-t7"
      },
      "source": [
        "# 住所データを読み込み\n",
        "cluster_df = pd.read_json('/content/drive/MyDrive/Colab Notebooks/data/address_data.json')"
      ],
      "execution_count": null,
      "outputs": []
    },
    {
      "cell_type": "code",
      "metadata": {
        "id": "HlF9YJgn0K7v"
      },
      "source": [
        "# 不要なカラムを削除\n",
        "del(cluster_df['address'])\n",
        "del(cluster_df['distance_text'])\n",
        "del(cluster_df['duration_text'])\n",
        "cluster_df['distance_value'] = cluster_df['distance_value'] / 1000\n",
        "cluster_df['duration_value'] = cluster_df['duration_value'] / 60\n",
        "\n",
        "# データ整形\n",
        "cluster_array = np.array([cluster_df['distance_value'].tolist(),\n",
        "                          cluster_df['duration_value'].tolist()], np.int32)\n",
        "\n",
        "cluster_array = cluster_array.T\n",
        "\n",
        "# クラスタ分析（クラスタ数=4）\n",
        "pred = KMeans(n_clusters=4).fit_predict(cluster_array)\n",
        "\n",
        "# Pandasのデータフレームにクラスタ番号を追加\n",
        "cluster_df['cluster_id'] = pred\n"
      ],
      "execution_count": null,
      "outputs": []
    },
    {
      "cell_type": "code",
      "metadata": {
        "colab": {
          "base_uri": "https://localhost:8080/",
          "height": 295
        },
        "id": "-Evap4_W0Twy",
        "outputId": "90011e23-a46d-4959-f1b1-8bb0aef031fb"
      },
      "source": [
        "# クラスタリング結果をプロット\n",
        "df_0 = cluster_df[cluster_df['cluster_id'] == 0]\n",
        "df_1 = cluster_df[cluster_df['cluster_id'] == 1]\n",
        "df_2 = cluster_df[cluster_df['cluster_id'] == 2]\n",
        "df_3 = cluster_df[cluster_df['cluster_id'] == 3]\n",
        "\n",
        "x0 = [distance['distance_value'] for i, distance in df_0.iterrows()]\n",
        "y0 = [distance['duration_value'] for i, distance in df_0.iterrows()]\n",
        "\n",
        "x1 = [distance['distance_value'] for i, distance in df_1.iterrows()]\n",
        "y1 = [distance['duration_value'] for i, distance in df_1.iterrows()]\n",
        "\n",
        "x2 = [distance['distance_value'] for i, distance in df_2.iterrows()]\n",
        "y2 = [distance['duration_value'] for i, distance in df_2.iterrows()]\n",
        "\n",
        "x3 = [distance['distance_value'] for i, distance in df_3.iterrows()]\n",
        "y3 = [distance['duration_value'] for i, distance in df_3.iterrows()]\n",
        "\n",
        "fig = plt.figure()\n",
        "\n",
        "ax = fig.add_subplot(1, 1, 1)\n",
        "\n",
        "ax.scatter(x0, y0, c='red', marker='.', label='cluster_0')\n",
        "ax.scatter(x1, y1, c='blue', marker='o', label='cluster_1')\n",
        "ax.scatter(x2, y2, c='green', marker='^', label='cluster_2')\n",
        "ax.scatter(x3, y3, c='yellow', marker='s', label='cluster_3')\n",
        "\n",
        "ax.set_title('fourth scatter plot')\n",
        "ax.set_xlabel('distance')\n",
        "ax.set_ylabel('duration')\n",
        "\n",
        "ax.grid(True)\n",
        "\n",
        "ax.legend(loc='upper left')\n",
        "fig.show()"
      ],
      "execution_count": null,
      "outputs": [
        {
          "output_type": "display_data",
          "data": {
            "image/png": "[encoded data removed]",
            "text/plain": [
              "<Figure size 432x288 with 1 Axes>"
            ]
          },
          "metadata": {
            "tags": [],
            "needs_background": "light"
          }
        }
      ]
    },
    {
      "cell_type": "code",
      "metadata": {
        "id": "XnGDjBZT0cdk"
      },
      "source": [
        ""
      ],
      "execution_count": null,
      "outputs": []
    }
  ]
}