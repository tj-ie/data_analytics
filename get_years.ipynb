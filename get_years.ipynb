{
  "nbformat": 4,
  "nbformat_minor": 0,
  "metadata": {
    "colab": {
      "name": "get_years.ipynb",
      "provenance": [],
      "collapsed_sections": [],
      "include_colab_link": true
    },
    "kernelspec": {
      "name": "python3",
      "display_name": "Python 3"
    },
    "language_info": {
      "name": "python"
    }
  },
  "cells": [
    {
      "cell_type": "markdown",
      "metadata": {
        "id": "view-in-github",
        "colab_type": "text"
      },
      "source": [
        "<a href=\"https://colab.research.google.com/github/tj-ie/data_analytics/blob/main/get_years.ipynb\" target=\"_parent\"><img src=\"https://colab.research.google.com/assets/colab-badge.svg\" alt=\"Open In Colab\"/></a>"
      ]
    },
    {
      "cell_type": "code",
      "metadata": {
        "id": "JfbHs5jhTifg"
      },
      "source": [
        "import pandas as pd\n",
        "from datetime import datetime"
      ],
      "execution_count": null,
      "outputs": []
    },
    {
      "cell_type": "code",
      "metadata": {
        "id": "XhAdNNIUUtiS"
      },
      "source": [
        "df = pd.read_csv('/content/drive/MyDrive/Colab Notebooks/data/sample_duration.csv')"
      ],
      "execution_count": null,
      "outputs": []
    },
    {
      "cell_type": "code",
      "metadata": {
        "colab": {
          "base_uri": "https://localhost:8080/",
          "height": 266
        },
        "id": "sxlsjjEWW35p",
        "outputId": "e52e6c0f-b112-40c5-a5a4-82946e76c85d"
      },
      "source": [
        "df"
      ],
      "execution_count": null,
      "outputs": [
        {
          "output_type": "execute_result",
          "data": {
            "text/html": [
              "<div>\n",
              "<style scoped>\n",
              "    .dataframe tbody tr th:only-of-type {\n",
              "        vertical-align: middle;\n",
              "    }\n",
              "\n",
              "    .dataframe tbody tr th {\n",
              "        vertical-align: top;\n",
              "    }\n",
              "\n",
              "    .dataframe thead th {\n",
              "        text-align: right;\n",
              "    }\n",
              "</style>\n",
              "<table border=\"1\" class=\"dataframe\">\n",
              "  <thead>\n",
              "    <tr style=\"text-align: right;\">\n",
              "      <th></th>\n",
              "      <th>start</th>\n",
              "      <th>end</th>\n",
              "    </tr>\n",
              "  </thead>\n",
              "  <tbody>\n",
              "    <tr>\n",
              "      <th>0</th>\n",
              "      <td>2017/1/29</td>\n",
              "      <td>2019/9/10</td>\n",
              "    </tr>\n",
              "    <tr>\n",
              "      <th>1</th>\n",
              "      <td>2012/1/30</td>\n",
              "      <td>2015/9/11</td>\n",
              "    </tr>\n",
              "    <tr>\n",
              "      <th>2</th>\n",
              "      <td>2019/1/31</td>\n",
              "      <td>NaN</td>\n",
              "    </tr>\n",
              "    <tr>\n",
              "      <th>3</th>\n",
              "      <td>2016/2/1</td>\n",
              "      <td>2017/9/13</td>\n",
              "    </tr>\n",
              "    <tr>\n",
              "      <th>4</th>\n",
              "      <td>2017/2/2</td>\n",
              "      <td>2019/9/14</td>\n",
              "    </tr>\n",
              "    <tr>\n",
              "      <th>5</th>\n",
              "      <td>2017/2/3</td>\n",
              "      <td>NaN</td>\n",
              "    </tr>\n",
              "    <tr>\n",
              "      <th>6</th>\n",
              "      <td>2020/2/4</td>\n",
              "      <td>2020/9/16</td>\n",
              "    </tr>\n",
              "  </tbody>\n",
              "</table>\n",
              "</div>"
            ],
            "text/plain": [
              "       start        end\n",
              "0  2017/1/29  2019/9/10\n",
              "1  2012/1/30  2015/9/11\n",
              "2  2019/1/31        NaN\n",
              "3   2016/2/1  2017/9/13\n",
              "4   2017/2/2  2019/9/14\n",
              "5   2017/2/3        NaN\n",
              "6   2020/2/4  2020/9/16"
            ]
          },
          "metadata": {
            "tags": []
          },
          "execution_count": 5
        }
      ]
    },
    {
      "cell_type": "code",
      "metadata": {
        "colab": {
          "base_uri": "https://localhost:8080/"
        },
        "id": "KZb7fKY0W4r2",
        "outputId": "65fe82cd-9bca-487d-bcf1-7e6cfdef721c"
      },
      "source": [
        "df.isnull().any(axis=0)"
      ],
      "execution_count": null,
      "outputs": [
        {
          "output_type": "execute_result",
          "data": {
            "text/plain": [
              "start    False\n",
              "end       True\n",
              "dtype: bool"
            ]
          },
          "metadata": {
            "tags": []
          },
          "execution_count": 70
        }
      ]
    },
    {
      "cell_type": "code",
      "metadata": {
        "id": "U1aSVj2PW9cS"
      },
      "source": [
        "# 欠損値の補完\n",
        "# df_end_is_null = df['end'].isnull()\n",
        "# for end_date in list(df.loc[df_end_is_null, \"end\"]):\n",
        "#   date = df.loc[(df_end_is_null) & (df['end'] == end_date)]\n",
        "  # df['end'] = datetime.now().strftime(\"%Y/%m/%d\")"
      ],
      "execution_count": null,
      "outputs": []
    },
    {
      "cell_type": "code",
      "metadata": {
        "colab": {
          "base_uri": "https://localhost:8080/",
          "height": 266
        },
        "id": "g9vm4XKBXHCl",
        "outputId": "b861190a-8022-4168-d46b-1a5c50228d14"
      },
      "source": [
        "# 欠損値の補完\n",
        "# 対象列置換df.replace({'age': {24: 100}})\n",
        "today = datetime.today().strftime(\"%Y/%m/%d\")\n",
        "# df.replace({'end': {'NaN': now}})\n",
        "\n",
        "# fillna\n",
        "df = df.fillna(today)\n",
        "df"
      ],
      "execution_count": null,
      "outputs": [
        {
          "output_type": "execute_result",
          "data": {
            "text/html": [
              "<div>\n",
              "<style scoped>\n",
              "    .dataframe tbody tr th:only-of-type {\n",
              "        vertical-align: middle;\n",
              "    }\n",
              "\n",
              "    .dataframe tbody tr th {\n",
              "        vertical-align: top;\n",
              "    }\n",
              "\n",
              "    .dataframe thead th {\n",
              "        text-align: right;\n",
              "    }\n",
              "</style>\n",
              "<table border=\"1\" class=\"dataframe\">\n",
              "  <thead>\n",
              "    <tr style=\"text-align: right;\">\n",
              "      <th></th>\n",
              "      <th>start</th>\n",
              "      <th>end</th>\n",
              "    </tr>\n",
              "  </thead>\n",
              "  <tbody>\n",
              "    <tr>\n",
              "      <th>0</th>\n",
              "      <td>2017/1/29</td>\n",
              "      <td>2019/9/10</td>\n",
              "    </tr>\n",
              "    <tr>\n",
              "      <th>1</th>\n",
              "      <td>2012/1/30</td>\n",
              "      <td>2015/9/11</td>\n",
              "    </tr>\n",
              "    <tr>\n",
              "      <th>2</th>\n",
              "      <td>2019/1/31</td>\n",
              "      <td>2021/05/09</td>\n",
              "    </tr>\n",
              "    <tr>\n",
              "      <th>3</th>\n",
              "      <td>2016/2/1</td>\n",
              "      <td>2017/9/13</td>\n",
              "    </tr>\n",
              "    <tr>\n",
              "      <th>4</th>\n",
              "      <td>2017/2/2</td>\n",
              "      <td>2019/9/14</td>\n",
              "    </tr>\n",
              "    <tr>\n",
              "      <th>5</th>\n",
              "      <td>2017/2/3</td>\n",
              "      <td>2021/05/09</td>\n",
              "    </tr>\n",
              "    <tr>\n",
              "      <th>6</th>\n",
              "      <td>2020/2/4</td>\n",
              "      <td>2020/9/16</td>\n",
              "    </tr>\n",
              "  </tbody>\n",
              "</table>\n",
              "</div>"
            ],
            "text/plain": [
              "       start         end\n",
              "0  2017/1/29   2019/9/10\n",
              "1  2012/1/30   2015/9/11\n",
              "2  2019/1/31  2021/05/09\n",
              "3   2016/2/1   2017/9/13\n",
              "4   2017/2/2   2019/9/14\n",
              "5   2017/2/3  2021/05/09\n",
              "6   2020/2/4   2020/9/16"
            ]
          },
          "metadata": {
            "tags": []
          },
          "execution_count": 4
        }
      ]
    },
    {
      "cell_type": "code",
      "metadata": {
        "colab": {
          "base_uri": "https://localhost:8080/",
          "height": 35
        },
        "id": "tSyC6Ry6ai3X",
        "outputId": "fd516422-b034-480a-be7e-1b6398f7ad7d"
      },
      "source": [
        "# 型変換\n",
        "df[['start', 'end']] = df[['start', 'end']].astype(str)\n",
        "\n",
        "oldest_start_date = min(df['start'])\n",
        "oldest_start_date"
      ],
      "execution_count": null,
      "outputs": [
        {
          "output_type": "execute_result",
          "data": {
            "application/vnd.google.colaboratory.intrinsic+json": {
              "type": "string"
            },
            "text/plain": [
              "'2012/1/30'"
            ]
          },
          "metadata": {
            "tags": []
          },
          "execution_count": 5
        }
      ]
    },
    {
      "cell_type": "code",
      "metadata": {
        "colab": {
          "base_uri": "https://localhost:8080/",
          "height": 35
        },
        "id": "zkqNAV7Bd4uj",
        "outputId": "57918656-6808-4092-8c26-bbc2c0a8e965"
      },
      "source": [
        "latest_end_date = max(df['end'])\n",
        "latest_end_date"
      ],
      "execution_count": null,
      "outputs": [
        {
          "output_type": "execute_result",
          "data": {
            "application/vnd.google.colaboratory.intrinsic+json": {
              "type": "string"
            },
            "text/plain": [
              "'2021/05/09'"
            ]
          },
          "metadata": {
            "tags": []
          },
          "execution_count": 6
        }
      ]
    },
    {
      "cell_type": "code",
      "metadata": {
        "colab": {
          "base_uri": "https://localhost:8080/"
        },
        "id": "OAtM73XKjum_",
        "outputId": "25bbfa16-1843-4baf-ec0f-6004834f66cf"
      },
      "source": [
        "oldest_year = int(oldest_start_date[:4])\n",
        "oldest_year\n",
        "\n",
        "latest_year = int(latest_end_date[:4])\n",
        "latest_year\n",
        "\n",
        "l_duration = []\n",
        "l_duration.append(oldest_year)\n",
        "\n",
        "while oldest_year < latest_year:\n",
        "  oldest_year += 1\n",
        "  l_duration.append(oldest_year)\n",
        "  \n",
        "l_duration"
      ],
      "execution_count": null,
      "outputs": [
        {
          "output_type": "execute_result",
          "data": {
            "text/plain": [
              "[2012, 2013, 2014, 2015, 2016, 2017, 2018, 2019, 2020, 2021]"
            ]
          },
          "metadata": {
            "tags": []
          },
          "execution_count": 7
        }
      ]
    },
    {
      "cell_type": "code",
      "metadata": {
        "colab": {
          "base_uri": "https://localhost:8080/",
          "height": 266
        },
        "id": "TyeqLZ77kA5E",
        "outputId": "c0e35106-74ce-4b67-90ce-91caff19a85d"
      },
      "source": [
        "df[l_duration] = 0\n",
        "df"
      ],
      "execution_count": null,
      "outputs": [
        {
          "output_type": "execute_result",
          "data": {
            "text/html": [
              "<div>\n",
              "<style scoped>\n",
              "    .dataframe tbody tr th:only-of-type {\n",
              "        vertical-align: middle;\n",
              "    }\n",
              "\n",
              "    .dataframe tbody tr th {\n",
              "        vertical-align: top;\n",
              "    }\n",
              "\n",
              "    .dataframe thead th {\n",
              "        text-align: right;\n",
              "    }\n",
              "</style>\n",
              "<table border=\"1\" class=\"dataframe\">\n",
              "  <thead>\n",
              "    <tr style=\"text-align: right;\">\n",
              "      <th></th>\n",
              "      <th>start</th>\n",
              "      <th>end</th>\n",
              "      <th>2012</th>\n",
              "      <th>2013</th>\n",
              "      <th>2014</th>\n",
              "      <th>2015</th>\n",
              "      <th>2016</th>\n",
              "      <th>2017</th>\n",
              "      <th>2018</th>\n",
              "      <th>2019</th>\n",
              "      <th>2020</th>\n",
              "      <th>2021</th>\n",
              "    </tr>\n",
              "  </thead>\n",
              "  <tbody>\n",
              "    <tr>\n",
              "      <th>0</th>\n",
              "      <td>2017/1/29</td>\n",
              "      <td>2019/9/10</td>\n",
              "      <td>0</td>\n",
              "      <td>0</td>\n",
              "      <td>0</td>\n",
              "      <td>0</td>\n",
              "      <td>0</td>\n",
              "      <td>0</td>\n",
              "      <td>0</td>\n",
              "      <td>0</td>\n",
              "      <td>0</td>\n",
              "      <td>0</td>\n",
              "    </tr>\n",
              "    <tr>\n",
              "      <th>1</th>\n",
              "      <td>2012/1/30</td>\n",
              "      <td>2015/9/11</td>\n",
              "      <td>0</td>\n",
              "      <td>0</td>\n",
              "      <td>0</td>\n",
              "      <td>0</td>\n",
              "      <td>0</td>\n",
              "      <td>0</td>\n",
              "      <td>0</td>\n",
              "      <td>0</td>\n",
              "      <td>0</td>\n",
              "      <td>0</td>\n",
              "    </tr>\n",
              "    <tr>\n",
              "      <th>2</th>\n",
              "      <td>2019/1/31</td>\n",
              "      <td>2021/05/09</td>\n",
              "      <td>0</td>\n",
              "      <td>0</td>\n",
              "      <td>0</td>\n",
              "      <td>0</td>\n",
              "      <td>0</td>\n",
              "      <td>0</td>\n",
              "      <td>0</td>\n",
              "      <td>0</td>\n",
              "      <td>0</td>\n",
              "      <td>0</td>\n",
              "    </tr>\n",
              "    <tr>\n",
              "      <th>3</th>\n",
              "      <td>2016/2/1</td>\n",
              "      <td>2017/9/13</td>\n",
              "      <td>0</td>\n",
              "      <td>0</td>\n",
              "      <td>0</td>\n",
              "      <td>0</td>\n",
              "      <td>0</td>\n",
              "      <td>0</td>\n",
              "      <td>0</td>\n",
              "      <td>0</td>\n",
              "      <td>0</td>\n",
              "      <td>0</td>\n",
              "    </tr>\n",
              "    <tr>\n",
              "      <th>4</th>\n",
              "      <td>2017/2/2</td>\n",
              "      <td>2019/9/14</td>\n",
              "      <td>0</td>\n",
              "      <td>0</td>\n",
              "      <td>0</td>\n",
              "      <td>0</td>\n",
              "      <td>0</td>\n",
              "      <td>0</td>\n",
              "      <td>0</td>\n",
              "      <td>0</td>\n",
              "      <td>0</td>\n",
              "      <td>0</td>\n",
              "    </tr>\n",
              "    <tr>\n",
              "      <th>5</th>\n",
              "      <td>2017/2/3</td>\n",
              "      <td>2021/05/09</td>\n",
              "      <td>0</td>\n",
              "      <td>0</td>\n",
              "      <td>0</td>\n",
              "      <td>0</td>\n",
              "      <td>0</td>\n",
              "      <td>0</td>\n",
              "      <td>0</td>\n",
              "      <td>0</td>\n",
              "      <td>0</td>\n",
              "      <td>0</td>\n",
              "    </tr>\n",
              "    <tr>\n",
              "      <th>6</th>\n",
              "      <td>2020/2/4</td>\n",
              "      <td>2020/9/16</td>\n",
              "      <td>0</td>\n",
              "      <td>0</td>\n",
              "      <td>0</td>\n",
              "      <td>0</td>\n",
              "      <td>0</td>\n",
              "      <td>0</td>\n",
              "      <td>0</td>\n",
              "      <td>0</td>\n",
              "      <td>0</td>\n",
              "      <td>0</td>\n",
              "    </tr>\n",
              "  </tbody>\n",
              "</table>\n",
              "</div>"
            ],
            "text/plain": [
              "       start         end  2012  2013  2014  ...  2017  2018  2019  2020  2021\n",
              "0  2017/1/29   2019/9/10     0     0     0  ...     0     0     0     0     0\n",
              "1  2012/1/30   2015/9/11     0     0     0  ...     0     0     0     0     0\n",
              "2  2019/1/31  2021/05/09     0     0     0  ...     0     0     0     0     0\n",
              "3   2016/2/1   2017/9/13     0     0     0  ...     0     0     0     0     0\n",
              "4   2017/2/2   2019/9/14     0     0     0  ...     0     0     0     0     0\n",
              "5   2017/2/3  2021/05/09     0     0     0  ...     0     0     0     0     0\n",
              "6   2020/2/4   2020/9/16     0     0     0  ...     0     0     0     0     0\n",
              "\n",
              "[7 rows x 12 columns]"
            ]
          },
          "metadata": {
            "tags": []
          },
          "execution_count": 8
        }
      ]
    },
    {
      "cell_type": "code",
      "metadata": {
        "colab": {
          "base_uri": "https://localhost:8080/"
        },
        "id": "iAfvd8HFlWSs",
        "outputId": "5e0c4949-9b20-47ff-a625-c1e992b4f042"
      },
      "source": [
        "# Ensure Types are Correct\n",
        "df['start'] = pd.to_datetime(df['start'])\n",
        "df['end'] = pd.to_datetime(df['end'])\n",
        "\n",
        "# Grab Year Columns\n",
        "year_columns = df.columns[2:]\n",
        "# Get Year Columns as numpy array as numbers\n",
        "c = year_columns.to_numpy().astype(int)\n",
        "# Broadcast start year vs column column (as int) and end year vs year column (as int)\n",
        "m = ((df['start'].dt.year.to_numpy()[:, None] <= c) &\n",
        "     (c <= df['end'].dt.year.to_numpy()[:, None]))\n",
        "# Update year_columns where mask is True\n",
        "df[year_columns] = df[year_columns].mask(m, 1)\n",
        "print(df.to_string())\n"
      ],
      "execution_count": null,
      "outputs": [
        {
          "output_type": "stream",
          "text": [
            "       start        end  2012  2013  2014  2015  2016  2017  2018  2019  2020  2021\n",
            "0 2017-01-29 2019-09-10     0     0     0     0     0     1     1     1     0     0\n",
            "1 2012-01-30 2015-09-11     1     1     1     1     0     0     0     0     0     0\n",
            "2 2019-01-31 2021-05-09     0     0     0     0     0     0     0     1     1     1\n",
            "3 2016-02-01 2017-09-13     0     0     0     0     1     1     0     0     0     0\n",
            "4 2017-02-02 2019-09-14     0     0     0     0     0     1     1     1     0     0\n",
            "5 2017-02-03 2021-05-09     0     0     0     0     0     1     1     1     1     1\n",
            "6 2020-02-04 2020-09-16     0     0     0     0     0     0     0     0     1     0\n"
          ],
          "name": "stdout"
        }
      ]
    },
    {
      "cell_type": "code",
      "metadata": {
        "colab": {
          "base_uri": "https://localhost:8080/"
        },
        "id": "ipJEbENRmi8f",
        "outputId": "864a0166-89ab-4c57-d2cd-c4d1780ccdab"
      },
      "source": [
        "# Ensure Types are Correct\n",
        "df['start'] = pd.to_datetime(df['start'])\n",
        "df['end'] = pd.to_datetime(df['end'])\n",
        "\n",
        "for index, row in df.iterrows():\n",
        "    # Get years from timestamps\n",
        "    s_year = row['start'].year\n",
        "    e_year = row['end'].year\n",
        "\n",
        "    l_years = []\n",
        "    l_years.append(s_year)\n",
        "\n",
        "    while s_year < e_year:\n",
        "        s_year += 1\n",
        "        l_years.append(s_year)\n",
        "\n",
        "    for c_year in l_years:\n",
        "        # Iterate Over Date Columns Only (Exclude Start and End)\n",
        "        for col_idx, column_name in enumerate(df.columns[2:].values.astype(int)):\n",
        "            if c_year == column_name:\n",
        "                # Replace at index, col_idx + 2 because 'start' and 'end'\n",
        "                # were excluded so col_idx is off by 2\n",
        "                df.iloc[index, col_idx + 2] = 1\n",
        "    \n",
        "print(df.to_string())"
      ],
      "execution_count": null,
      "outputs": [
        {
          "output_type": "stream",
          "text": [
            "       start        end  2012  2013  2014  2015  2016  2017  2018  2019  2020  2021\n",
            "0 2017-01-29 2019-09-10     0     0     0     0     0     1     1     1     0     0\n",
            "1 2012-01-30 2015-09-11     1     1     1     1     0     0     0     0     0     0\n",
            "2 2019-01-31 2021-05-09     0     0     0     0     0     0     0     1     1     1\n",
            "3 2016-02-01 2017-09-13     0     0     0     0     1     1     0     0     0     0\n",
            "4 2017-02-02 2019-09-14     0     0     0     0     0     1     1     1     0     0\n",
            "5 2017-02-03 2021-05-09     0     0     0     0     0     1     1     1     1     1\n",
            "6 2020-02-04 2020-09-16     0     0     0     0     0     0     0     0     1     0\n"
          ],
          "name": "stdout"
        }
      ]
    },
    {
      "cell_type": "code",
      "metadata": {
        "colab": {
          "base_uri": "https://localhost:8080/"
        },
        "id": "nOTFavkgmkHw",
        "outputId": "ed5545a9-b147-4c97-8a5c-8dab577dbc17"
      },
      "source": [
        "import numpy as\n",
        "\n",
        "# Ensure Types are Correct\n",
        "df['start'] = pd.to_datetime(df['start'])\n",
        "df['end'] = pd.to_datetime(df['end'])\n",
        "\n",
        "for index, row in df.iterrows():\n",
        "    # Get years from timestamps\n",
        "    s_year = row['start'].year\n",
        "    e_year = row['end'].year\n",
        "    # Create Range of years as strings\n",
        "    l_years = list(map(str, np.arange(s_year, e_year + 1)))\n",
        "    # Update based on index and year column names\n",
        "    df.loc[index, l_years] = 1\n",
        "\n",
        "print(df.to_string())"
      ],
      "execution_count": null,
      "outputs": [
        {
          "output_type": "stream",
          "text": [
            "       start        end  2012  2013  2014  2015  2016  2017  2018  2019  2020  2021  2017  2018  2019  2012  2013  2014  2015  2020  2021  2016\n",
            "0 2017-01-29 2019-09-10     0     0     0     0     0     1     1     1     0     0   1.0   1.0   1.0   NaN   NaN   NaN   NaN   NaN   NaN   NaN\n",
            "1 2012-01-30 2015-09-11     1     1     1     1     0     0     0     0     0     0   NaN   NaN   NaN   1.0   1.0   1.0   1.0   NaN   NaN   NaN\n",
            "2 2019-01-31 2021-05-09     0     0     0     0     0     0     0     1     1     1   NaN   NaN   1.0   NaN   NaN   NaN   NaN   1.0   1.0   NaN\n",
            "3 2016-02-01 2017-09-13     0     0     0     0     1     1     0     0     0     0   1.0   NaN   NaN   NaN   NaN   NaN   NaN   NaN   NaN   1.0\n",
            "4 2017-02-02 2019-09-14     0     0     0     0     0     1     1     1     0     0   1.0   1.0   1.0   NaN   NaN   NaN   NaN   NaN   NaN   NaN\n",
            "5 2017-02-03 2021-05-09     0     0     0     0     0     1     1     1     1     1   1.0   1.0   1.0   NaN   NaN   NaN   NaN   1.0   1.0   NaN\n",
            "6 2020-02-04 2020-09-16     0     0     0     0     0     0     0     0     1     0   NaN   NaN   NaN   NaN   NaN   NaN   NaN   1.0   NaN   NaN\n"
          ],
          "name": "stdout"
        }
      ]
    },
    {
      "cell_type": "code",
      "metadata": {
        "colab": {
          "base_uri": "https://localhost:8080/"
        },
        "id": "-cI6TylimyLL",
        "outputId": "f582a906-b1d0-4b47-c1b7-54f33b8b7878"
      },
      "source": [
        "df['start'] = pd.to_datetime(df['start'])\n",
        "df['end'] = pd.to_datetime(df['end'])\n",
        "\n",
        "def change(x):\n",
        "    k = range(x['start'].year,x['end'].year+1)\n",
        "    for col in x.index[2:]:\n",
        "        if int(col) in k:\n",
        "            x[col] = 1\n",
        "    return x\n",
        "    \n",
        "df = df.apply(change,1)\n",
        "\n",
        "print(df.to_string())"
      ],
      "execution_count": null,
      "outputs": [
        {
          "output_type": "stream",
          "text": [
            "       start        end  2012  2013  2014  2015  2016  2017  2018  2019  2020  2021  2017  2018  2019  2012  2013  2014  2015  2020  2021  2016\n",
            "0 2017-01-29 2019-09-10     0     0     0     0     0     1     1     1     0     0   1.0   1.0   1.0   NaN   NaN   NaN   NaN   NaN   NaN   NaN\n",
            "1 2012-01-30 2015-09-11     1     1     1     1     0     0     0     0     0     0   NaN   NaN   NaN   1.0   1.0   1.0   1.0   NaN   NaN   NaN\n",
            "2 2019-01-31 2021-05-09     0     0     0     0     0     0     0     1     1     1   NaN   NaN   1.0   NaN   NaN   NaN   NaN   1.0   1.0   NaN\n",
            "3 2016-02-01 2017-09-13     0     0     0     0     1     1     0     0     0     0   1.0   NaN   NaN   NaN   NaN   NaN   NaN   NaN   NaN   1.0\n",
            "4 2017-02-02 2019-09-14     0     0     0     0     0     1     1     1     0     0   1.0   1.0   1.0   NaN   NaN   NaN   NaN   NaN   NaN   NaN\n",
            "5 2017-02-03 2021-05-09     0     0     0     0     0     1     1     1     1     1   1.0   1.0   1.0   NaN   NaN   NaN   NaN   1.0   1.0   NaN\n",
            "6 2020-02-04 2020-09-16     0     0     0     0     0     0     0     0     1     0   NaN   NaN   NaN   NaN   NaN   NaN   NaN   1.0   NaN   NaN\n"
          ],
          "name": "stdout"
        }
      ]
    },
    {
      "cell_type": "code",
      "metadata": {
        "id": "sw1mZwpGm6Fb"
      },
      "source": [
        "df.to_excel('/content/drive/MyDrive/Colab Notebooks/data/sample_duration_data.xlsx', sheet_name='sample_duration', index=False)"
      ],
      "execution_count": null,
      "outputs": []
    },
    {
      "cell_type": "code",
      "metadata": {
        "id": "hSyUagyZ8wpF"
      },
      "source": [
        ""
      ],
      "execution_count": null,
      "outputs": []
    }
  ]
}