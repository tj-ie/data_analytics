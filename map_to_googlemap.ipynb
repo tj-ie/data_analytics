{
  "nbformat": 4,
  "nbformat_minor": 0,
  "metadata": {
    "colab": {
      "name": "map_to_googlemap.ipynb",
      "provenance": [],
      "collapsed_sections": [],
      "authorship_tag": "ABX9TyMD9/dxN3/tG4gRkIX++13E",
      "include_colab_link": true
    },
    "kernelspec": {
      "name": "python3",
      "display_name": "Python 3"
    },
    "language_info": {
      "name": "python"
    }
  },
  "cells": [
    {
      "cell_type": "markdown",
      "metadata": {
        "id": "view-in-github",
        "colab_type": "text"
      },
      "source": [
        "<a href=\"https://colab.research.google.com/github/tj-ie/data_analytics/blob/main/map_to_googlemap.ipynb\" target=\"_parent\"><img src=\"https://colab.research.google.com/assets/colab-badge.svg\" alt=\"Open In Colab\"/></a>"
      ]
    },
    {
      "cell_type": "code",
      "metadata": {
        "id": "UvztMfe0tDj4"
      },
      "source": [
        "import folium\n",
        "import json\n",
        "\n",
        "json_open = open('./tmp/team_info.json', 'r')\n",
        "json_load = json.load(json_open)\n",
        "\n",
        "m = folium.Map(location=[37, 138],\n",
        "                zoom_start=5.2,\n",
        "                attr='&copy; <a href=\"http://osm.org/copyright\">OpenStreetMap</a> contributors')\n",
        "\n",
        "for team in json_load:\n",
        "  code = [float(team['lat']), float(team['lon'])]\n",
        "  text = ('<b>' + team['name'] + ' 受賞' + team['times'] + '回' + '</b>')\n",
        "  pop_info = folium.Popup(text, max_width=1000)\n",
        "  size = 1.3 * int(team['times'])\n",
        "  folium.CircleMarker(location=code, popup=pop_info, color='cabetblue', radius=size, fill=True).add_to(m)\n",
        "\n",
        "m.save('./tmp/robocomp.html')\n"
      ],
      "execution_count": null,
      "outputs": []
    }
  ]
}